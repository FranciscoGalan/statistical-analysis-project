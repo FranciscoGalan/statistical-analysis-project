{
 "cells": [
  {
   "cell_type": "markdown",
   "metadata": {},
   "source": [
    "# Recomendador de libros en Goodreads\n",
    "\n",
    "En este proyecto elaboré un recomendador de libros con base el perfil de un usuario en Goodreads. En esencia, el programa le sugiere a un usuario cuál es próximo libro que debe leer. \n",
    "\n",
    "Para recopilar la información que alimentará al recomendador, utilicé la API de Goodreads. \n",
    "\n",
    "#### Algunos aspectos que me gustaría incluir después:\n",
    "- A\n",
    "\n",
    "#### Mejoras pendientes a mi código:\n",
    "- Manejar errores, con try/except, en los GET requests.\n",
    "- Optimizar mi función principal para que se vea más limpia con loops. No super cómo hacerlo, considerando que debo cambiar de página y cambia el código html. Una vez que logre hacer esto, podré agregarle, también, un parametro para elegir las etiquetas que queremos seleccionar.\n"
   ]
  },
  {
   "cell_type": "markdown",
   "metadata": {},
   "source": [
    "## I. Obtener información de un perfil"
   ]
  },
  {
   "cell_type": "code",
   "execution_count": 2,
   "metadata": {},
   "outputs": [],
   "source": [
    "# Importar librerías\n",
    "import requests\n",
    "from bs4 import BeautifulSoup\n",
    "import time\n",
    "import pandas as pd\n",
    "import re\n",
    "import numpy as np"
   ]
  },
  {
   "cell_type": "code",
   "execution_count": 3,
   "metadata": {},
   "outputs": [],
   "source": [
    "# Claves para acceder al API\n",
    "CONSUMER_KEY = 'PnnwwD2CW9RtBv6YqsjYw'\n",
    "CONSUMER_SECRET = 'S1jfjAZpNn1dH6iRBWgDINoFp8G2ucwJa1C2OHg70xw'\n",
    "url = \"https://www.goodreads.com/\"\n",
    "id_francisco_galan = '40732498'"
   ]
  },
  {
   "cell_type": "markdown",
   "metadata": {},
   "source": [
    "### 1. Libros leídos de un usuario"
   ]
  },
  {
   "cell_type": "markdown",
   "metadata": {},
   "source": [
    "Las siguientes funciones (en particular `extract_info`) permiten extraer toda la información del estante de libros leídos de un usuario. La información se arroja como un diccionario."
   ]
  },
  {
   "cell_type": "code",
   "execution_count": 3,
   "metadata": {},
   "outputs": [],
   "source": [
    "def shelf_info(user_id, shelf, page):\n",
    "  \n",
    "    \"\"\"Arroja un BeautifulSoup object de una página del librero de un usuario\"\"\"\n",
    "    \n",
    "    time.sleep(1.1) # Para cumplir con los términos y condiciones de Goodreads\n",
    "    info = requests.get(f'{url}/review/list?v=2&id={user_id}&shelf={shelf}&sort=title&page={page}&per_page=200&key={CONSUMER_KEY}')\n",
    "    print('Status code: ', info.status_code)\n",
    "    info_content = info.content\n",
    "    soup = BeautifulSoup(info_content, 'lxml')\n",
    "    return soup\n",
    "\n",
    "def paginas_por_estante(libros_en_estante):\n",
    "    \"\"\"Nos dice cuántas páginas se requieren para mostrar todos los libros del estante\"\"\"\n",
    "    \n",
    "    if libros_en_estante <= 200:\n",
    "        return 1\n",
    "    \n",
    "    elif libros_en_estante <= 400:\n",
    "        return 2\n",
    "    \n",
    "    elif libros_en_estante <= 600:\n",
    "        return 3\n",
    "    \n",
    "    elif libros_en_estante <= 800:\n",
    "        return 4\n",
    "    \n",
    "    elif libros_en_estante <= 1000:\n",
    "        return 5\n",
    "    \n",
    "    elif libros_en_estante <= 1200:\n",
    "        return 6\n",
    "\n",
    "def extract_info(user_id, shelf, libros_en_estante):\n",
    "    \n",
    "    diccionario = {}\n",
    "    \n",
    "    # Definir variables de mis tags para ir agregando información mientras avanzo por varias páginas.\n",
    "    isbn = []\n",
    "    title = []\n",
    "    num_pages = []\n",
    "    publisher = []\n",
    "    publication_year = []\n",
    "    name = []\n",
    "    rating = []\n",
    "    average_rating = []\n",
    "    ratings_count = []\n",
    "    links = []\n",
    "    \n",
    "    #Determinar cuántas páginas consideraremos dentro del estante.\n",
    "    paginas_to_scrap = paginas_por_estante(libros_en_estante)\n",
    "    \n",
    "    # Extraer información de cada una de las páginas\n",
    "    for x in range(1, paginas_to_scrap+1):\n",
    "        \n",
    "        # Obtener código html en formato Soup\n",
    "        page = shelf_info(user_id, shelf=shelf, page=x)\n",
    "        \n",
    "        # Obtener información de tags que no se repiten\n",
    "        \n",
    "        isbn_info = page.find_all(f'isbn')\n",
    "        isbn_info = [elem.get_text() for elem in isbn_info]\n",
    "        isbn.append(isbn_info)\n",
    "        \n",
    "        title_info = page.find_all(f'title')\n",
    "        title_info = [elem.get_text() for elem in title_info]\n",
    "        title.append(title_info)\n",
    "        \n",
    "        publisher_info = page.find_all(f'publisher')\n",
    "        publisher_info = [elem.get_text() for elem in publisher_info]\n",
    "        publisher.append(publisher_info)\n",
    "        \n",
    "        num_pages_info = page.find_all(f'num_pages')\n",
    "        num_pages_info = [elem.get_text() for elem in num_pages_info]\n",
    "        num_pages.append(num_pages_info)\n",
    "        \n",
    "        publication_year_info = page.find_all(f'publication_year')\n",
    "        publication_year_info = [elem.get_text() for elem in publication_year_info]\n",
    "        publication_year.append(publication_year_info)\n",
    "        \n",
    "        name_info = page.find_all(f'name')\n",
    "        name_info = [elem.get_text() for elem in name_info]\n",
    "        name.append(name_info)\n",
    "        \n",
    "        rating_info = page.find_all(f'rating')\n",
    "        rating_info = [elem.get_text() for elem in rating_info]\n",
    "        rating.append(rating_info)\n",
    "        \n",
    "        # Obtener información de tags que se repiten\n",
    "        review_blocks = page.find_all('review')\n",
    "        link_pattern = re.compile(r'www.goodreads.com.*')\n",
    "        \n",
    "        for review in review_blocks: \n",
    "            average_rating_info = review.find(f'average_rating').get_text()\n",
    "            average_rating.append(average_rating_info)\n",
    "\n",
    "            ratings_count_info = review.find(f'ratings_count').get_text()\n",
    "            ratings_count.append(ratings_count_info)\n",
    "            \n",
    "            # Obtener links        \n",
    "            if link_pattern.search(review.get_text()):\n",
    "                link = re.findall(link_pattern, review.get_text()) \n",
    "                links.append(link)\n",
    "    \n",
    "            else: \n",
    "                print('Missing: ', review.title)\n",
    "    \n",
    "    # Aplanar variables con listas dentro de una lista\n",
    "    isbn = [elem for listt in isbn for elem in listt]\n",
    "    title = [elem for listt in title for elem in listt]\n",
    "    num_pages = [elem for listt in num_pages for elem in listt]\n",
    "    publisher = [elem for listt in publisher for elem in listt]\n",
    "    publication_year = [elem for listt in publication_year for elem in listt]\n",
    "    name = [elem for listt in name for elem in listt]\n",
    "    rating = [elem for listt in rating for elem in listt]\n",
    "    links = [elem[0] for elem in links]\n",
    "    \n",
    "    # Pasar todo a un diccionario\n",
    "    diccionario[f'user_id'] = [user_id for x in range(0, len(isbn))]\n",
    "    diccionario[f'shelf'] = [shelf for x in range(0, len(isbn))]\n",
    "    \n",
    "    diccionario[f'isbn'] = isbn\n",
    "    diccionario[f'title'] = title\n",
    "    diccionario[f'author'] = name\n",
    "    diccionario[f'num_pages'] = num_pages\n",
    "    diccionario[f'publication_year'] = publication_year\n",
    "    diccionario[f'publisher'] = publisher\n",
    "    diccionario[f'my_rating'] = rating\n",
    "    \n",
    "    diccionario[f'average_rating'] = average_rating\n",
    "    diccionario[f'ratings_count'] = ratings_count\n",
    "    diccionario[f'links'] = links\n",
    "        \n",
    "    return diccionario\n"
   ]
  },
  {
   "cell_type": "markdown",
   "metadata": {},
   "source": [
    "### 2. Lista de amigos del usuario"
   ]
  },
  {
   "cell_type": "code",
   "execution_count": 4,
   "metadata": {
    "scrolled": false
   },
   "outputs": [
    {
     "ename": "ModuleNotFoundError",
     "evalue": "No module named 'rauth'",
     "output_type": "error",
     "traceback": [
      "\u001b[1;31m---------------------------------------------------------------------------\u001b[0m",
      "\u001b[1;31mModuleNotFoundError\u001b[0m                       Traceback (most recent call last)",
      "\u001b[1;32m<ipython-input-4-eacfddae05cd>\u001b[0m in \u001b[0;36m<module>\u001b[1;34m\u001b[0m\n\u001b[1;32m----> 1\u001b[1;33m \u001b[1;32mfrom\u001b[0m \u001b[0mrauth\u001b[0m\u001b[1;33m.\u001b[0m\u001b[0mservice\u001b[0m \u001b[1;32mimport\u001b[0m \u001b[0mOAuth1Service\u001b[0m\u001b[1;33m,\u001b[0m \u001b[0mOAuth1Session\u001b[0m\u001b[1;33m\u001b[0m\u001b[1;33m\u001b[0m\u001b[0m\n\u001b[0m",
      "\u001b[1;31mModuleNotFoundError\u001b[0m: No module named 'rauth'"
     ]
    }
   ],
   "source": [
    "from rauth.service import OAuth1Service, OAuth1Session"
   ]
  },
  {
   "cell_type": "code",
   "execution_count": 12,
   "metadata": {},
   "outputs": [
    {
     "name": "stdout",
     "output_type": "stream",
     "text": [
      "Status code:  200\n"
     ]
    }
   ],
   "source": [
    "time.sleep(1.1)\n",
    "info = requests.get(f'{url}friend/user.xml&id={id_francisco_galan}&page=1-10&sort=first_name&key={CONSUMER_KEY}')\n",
    "print('Status code: ', info.status_code)"
   ]
  },
  {
   "cell_type": "code",
   "execution_count": 13,
   "metadata": {},
   "outputs": [
    {
     "name": "stdout",
     "output_type": "stream",
     "text": [
      "<!DOCTYPE html>\n",
      "<html>\n",
      " <head>\n",
      "  <title>\n",
      "   Sign Up\n",
      "  </title>\n",
      "  <meta content=\"telephone=no\" name=\"format-detection\"/>\n",
      "  <link href=\"https://www.goodreads.com/user/sign_up\" rel=\"canonical\"/>\n",
      "  <!-- OPEN GRAPH-->\n",
      "  <meta content=\"Goodreads\" property=\"og:title\"/>\n",
      "  <meta content=\"website\" property=\"og:type\"/>\n",
      "  <meta content=\"Goodreads\" property=\"og:site_name\"/>\n",
      "  <meta content=\"https://s.gr-assets.com/assets/icons/goodreads_icon_100x100-4a7d81b31d932cfc0be621ee15a14e70.png\" property=\"og:image\"/>\n",
      "  <meta content=\"2415071772\" property=\"fb:app_id\"/>\n",
      "  <!-- Helps the FB app link to our official iOS/Android app -->\n",
      "  <meta content=\"com.goodreads.https://user/sign_up?launchedbyapplink=true\" property=\"al:ios:url\"/>\n",
      "  <meta content=\"355833469\" property=\"al:ios:app_store_id\"/>\n",
      "  <meta content=\"Goodreads'\" property=\"al:ios:app_name\"/>\n",
      "  <script type=\"text/javascript\">\n",
      "   if (window.Mobvious === undefined) {\n",
      "          window.Mobvious = {};\n",
      "        }\n",
      "        window.Mobvious.device_type = 'desktop';\n",
      "  </script>\n",
      "  <script src=\"https://s.gr-assets.com/assets/webfontloader-f5925439393a000d48096973793890d8.js\">\n",
      "  </script>\n",
      "  <script>\n",
      "   //<![CDATA[\n",
      "\n",
      "  WebFont.load({\n",
      "    classes: false,\n",
      "    custom: {\n",
      "      families: [\"Lato:n4,n7,i4\", \"Merriweather:n4,n7,i4\"],\n",
      "      urls: [\"https://s.gr-assets.com/assets/gr/fonts-e256f84093cc13b27f5b82343398031a.css\"]\n",
      "    }\n",
      "  });\n",
      "\n",
      "//]]>\n",
      "  </script>\n",
      "  <link href=\"https://s.gr-assets.com/assets/goodreads-dfdcb488e1bcf699b426dadced60b52b.css\" media=\"all\" rel=\"stylesheet\"/>\n",
      "  <link href=\"https://s.gr-assets.com/assets/common_images-670d97636259cafc355c94fc43e871d7.css\" media=\"screen\" rel=\"stylesheet\"/>\n",
      "  <script src=\"https://s.gr-assets.com/assets/desktop/libraries-fedbf6e14cf39d43205f9973c3bdce09.js\">\n",
      "  </script>\n",
      "  <script src=\"https://s.gr-assets.com/assets/application-e1f7a59d8a3ee82c2db20200ea66a37f.js\">\n",
      "  </script>\n",
      "  <script>\n",
      "   //<![CDATA[\n",
      "    var gptAdSlots = gptAdSlots || [];\n",
      "    var googletag = googletag || {};\n",
      "    googletag.cmd = googletag.cmd || [];\n",
      "    (function() {\n",
      "      var gads = document.createElement(\"script\");\n",
      "      gads.async = true;\n",
      "      gads.type = \"text/javascript\";\n",
      "      var useSSL = \"https:\" == document.location.protocol;\n",
      "      gads.src = (useSSL ? \"https:\" : \"http:\") +\n",
      "      \"//securepubads.g.doubleclick.net/tag/js/gpt.js\";\n",
      "      var node = document.getElementsByTagName(\"script\")[0];\n",
      "      node.parentNode.insertBefore(gads, node);\n",
      "    })();\n",
      "    // page settings\n",
      "  //]]>\n",
      "  </script>\n",
      "  <script>\n",
      "   //<![CDATA[\n",
      "    googletag.cmd.push(function() {\n",
      "      googletag.pubads().setTargeting(\"sid\", \"osid.b92051f1723ddae6b811dbb47d8b4d8b\");\n",
      "    googletag.pubads().setTargeting(\"grsession\", \"osid.b92051f1723ddae6b811dbb47d8b4d8b\");\n",
      "    googletag.pubads().setTargeting(\"surface\", \"desktop\");\n",
      "    googletag.pubads().setTargeting(\"signedin\", \"false\");\n",
      "    googletag.pubads().setTargeting(\"gr_author\", \"false\");\n",
      "    googletag.pubads().setTargeting(\"author\", []);\n",
      "      googletag.pubads().enableAsyncRendering();\n",
      "      googletag.pubads().enableSingleRequest();\n",
      "      googletag.pubads().collapseEmptyDivs(true);\n",
      "      googletag.pubads().disableInitialLoad();\n",
      "      googletag.enableServices();\n",
      "    });\n",
      "  //]]>\n",
      "  </script>\n",
      "  <script>\n",
      "   //<![CDATA[\n",
      "    ! function(a9, a, p, s, t, A, g) {\n",
      "      if (a[a9]) return;\n",
      "    \n",
      "      function q(c, r) {\n",
      "        a[a9]._Q.push([c, r])\n",
      "      }\n",
      "      a[a9] = {\n",
      "      init: function() {\n",
      "        q(\"i\", arguments)\n",
      "      },\n",
      "      fetchBids: function() {\n",
      "        q(\"f\", arguments)\n",
      "      },\n",
      "      setDisplayBids: function() {},\n",
      "        _Q: []\n",
      "      };\n",
      "      A = p.createElement(s);\n",
      "      A.async = !0;\n",
      "      A.src = t;\n",
      "      g = p.getElementsByTagName(s)[0];\n",
      "      g.parentNode.insertBefore(A, g)\n",
      "    }(\"apstag\", window, document, \"script\", \"//c.amazon-adsystem.com/aax2/apstag.js\");\n",
      "    \n",
      "    apstag.init({\n",
      "      pubID: '3211', adServer: 'googletag', bidTimeout: 4e3, params: { aps_privacy: '1YN' }\n",
      "    });\n",
      "  //]]>\n",
      "  </script>\n",
      "  <meta content=\"authenticity_token\" name=\"csrf-param\"/>\n",
      "  <meta content=\"iJj4eREU0M0Z7yzKxpHv+jpjhIz8XVDm54r6okXhlE7X7XfuUjcLU5+4lsRGcj+QSeekyQ8jfk3IMQFVPytFTA==\" name=\"csrf-token\"/>\n",
      "  <meta content=\"T4SZQPF5YZW5GY0NTNR6\" name=\"request-id\"/>\n",
      "  <script defer=\"defer\" src=\"https://s.gr-assets.com/assets/react_client_side/external_dependencies-51654d5556.js\">\n",
      "  </script>\n",
      "  <script defer=\"defer\" src=\"https://s.gr-assets.com/assets/react_client_side/site_header-6b419369c5.js\">\n",
      "  </script>\n",
      "  <script defer=\"defer\" src=\"https://s.gr-assets.com/assets/react_client_side/custom_react_ujs-b1220d5e0a4820e90b905c302fc5cb52.js\">\n",
      "  </script>\n",
      "  <link href=\"/opensearch.xml\" rel=\"search\" title=\"Goodreads\" type=\"application/opensearchdescription+xml\"/>\n",
      "  <script>\n",
      "   //<![CDATA[\n",
      "\n",
      "  var GoodreadsAnalytics = GoodreadsAnalytics || {};\n",
      "  var _gaq = _gaq || [];\n",
      "\n",
      "  GoodreadsAnalytics.push = function () {\n",
      "    _gaq.push.apply(_gaq, arguments);\n",
      "  }\n",
      "\n",
      "  GoodreadsAnalytics.push(['_setAccount', 'UA-968618-1']);\n",
      "  GoodreadsAnalytics.push(['_setCustomVar',\n",
      "    1,                        // Slot 1\n",
      "    'User Status',            // Custom variable name\n",
      "    'signed_out',  // Custom variable value: signed_out, signed_in,\n",
      "                              //   signed_in_facebook_connected, or\n",
      "                              //   goodreads_member_previously_signed_in\n",
      "    2                         // Visit-level scope, which means slot 1 will be\n",
      "                              //   free when the visit ends.\n",
      "  ]);\n",
      "  GoodreadsAnalytics.push(['_setCustomVar',\n",
      "    2,                        // Slot 2\n",
      "    'Device Type',            // Custom variable name\n",
      "    'desktop',         // Custom variable value: desktop, mobile, or\n",
      "                              //   tablet\n",
      "    2                         // Visit-level scope, which means slot 2 will be\n",
      "                              //   free when the visit ends.\n",
      "  ]);\n",
      "  GoodreadsAnalytics.push(['_trackPageview']);\n",
      "\n",
      "  (function () {\n",
      "    var ga = document.createElement('script');\n",
      "    ga.type = 'text/javascript';\n",
      "    ga.async = true;\n",
      "    ga.src = ('https:' == document.location.protocol ? 'https://' : 'http://') + 'stats.g.doubleclick.net/dc.js';\n",
      "    var s = document.getElementsByTagName('script')[0];\n",
      "    s.parentNode.insertBefore(ga, s);\n",
      "  })();\n",
      "\n",
      "//]]>\n",
      "  </script>\n",
      "  <meta content=\"summary\" name=\"twitter:card\"/>\n",
      "  <meta content=\"@goodreads\" name=\"twitter:site\"/>\n",
      "  <meta content=\"Sign Up\" name=\"twitter:title\"/>\n",
      "  <meta content=\"See what your friends are reading\" name=\"twitter:description\"/>\n",
      "  <meta content=\"cEf8XOH0pulh1aYQeZ1gkXHsQ3dMPSyIGGYqmF53690=\" name=\"verify-v1\"/>\n",
      "  <meta content=\"PfFjeZ9OK1RrUrKlmAPn_iZJ_vgHaZO1YQ-QlG2VsJs\" name=\"google-site-verification\"/>\n",
      "  <meta content=\"app-id=355833469\" name=\"apple-itunes-app\"/>\n",
      " </head>\n",
      " <link href=\"https://s.gr-assets.com/assets/button-30a96a73de734028a16bdad9fad0ce1e.css\" media=\"screen\" rel=\"stylesheet\"/>\n",
      " <link href=\"https://s.gr-assets.com/assets/distractionless-ecc98c7de047a5cbbc86965b69c22c20.css\" media=\"screen\" rel=\"stylesheet\"/>\n",
      " <body class=\"textured\">\n",
      "  <div class=\"wrapper\">\n",
      "   <div class=\"content distractionless\">\n",
      "    <div class=\"clearfix\" id=\"header\">\n",
      "     <div class=\"logo\">\n",
      "      <a href=\"/\" target=\"\">\n",
      "       <img alt=\"Goodreads: Book reviews, recommendations, and discussion\" border=\"0\" src=\"https://s.gr-assets.com/assets/layout/goodreads_logo_324-a908b923dc3ed9b7a13f3da4d1ffb2df.png\" width=\"140\"/>\n",
      "      </a>\n",
      "     </div>\n",
      "     <div class=\"topRight\">\n",
      "     </div>\n",
      "    </div>\n",
      "    <div class=\"mainContentContainer\" id=\"topLanding\">\n",
      "     <div class=\"mainContent\">\n",
      "      <div class=\"contentBox clearfix\">\n",
      "       <div class=\"column_right\" style=\"float: none;\">\n",
      "        <h1>\n",
      "         Sign up for Goodreads\n",
      "        </h1>\n",
      "        <p class=\"intro\">\n",
      "         Sign up to see what your friends are reading, get book recommendations,\n",
      "         <br/>\n",
      "         and join the world’s largest community of readers.\n",
      "        </p>\n",
      "        <div id=\"choices\">\n",
      "         <div class=\"third_party_sign_in\">\n",
      "          <a class=\"fbjsLogin\" data-redirect=\"/user/new\" href=\"#\" id=\"fb-auth-button\">\n",
      "           <button class=\"gr-button--facebook gr-button--dark gr-button--auth gr-button facebookConnectButton fbSignInButton\">\n",
      "            <span class=\"gr-button--facebook__icon\">\n",
      "            </span>\n",
      "            Continue with Facebook\n",
      "           </button>\n",
      "          </a>\n",
      "          <button class=\"gr-button gr-button--amazon gr-button--auth amazonConnectButton amazonSignInButton\" onclick=\"GR_Amazon.askToConnect('https://www.goodreads.com/amazon/login/redirect_to_amazon_login_url'); return false;\">\n",
      "           <span class=\"gr-button--amazon__icon\">\n",
      "           </span>\n",
      "           Continue with Amazon\n",
      "          </button>\n",
      "          <button class=\"gr-button gr-button--apple gr-button--auth appleConnectButton thirdPartySignInButton\" onclick=\"GR_Apple.login(); return false;\">\n",
      "           <span class=\"gr-button--apple__icon\">\n",
      "           </span>\n",
      "           Continue with Apple\n",
      "          </button>\n",
      "         </div>\n",
      "         <p class=\"gradient\">\n",
      "          <span>\n",
      "           or\n",
      "          </span>\n",
      "         </p>\n",
      "         <div class=\"signup\">\n",
      "          Sign Up with Email\n",
      "         </div>\n",
      "        </div>\n",
      "        <div id=\"emailForm\">\n",
      "         <!-- Error messages render with standard React component -->\n",
      "         <!-- auto-populate email from Facebook if available, and set focus -->\n",
      "         <!-- based on presence/absence of email -->\n",
      "         <!-- focus on first field -->\n",
      "         <!-- focus on email instead if name is valid but email is invalid -->\n",
      "         <form accept-charset=\"UTF-8\" action=\"https://www.goodreads.com/user/create\" method=\"post\" name=\"createForm\">\n",
      "          <input name=\"utf8\" type=\"hidden\" value=\"✓\"/>\n",
      "          <input name=\"authenticity_token\" type=\"hidden\" value=\"AIN+4PyStytjZmNOnayKCvleB+N214sWS4O7KvWYsQVf9vF3v7FsteUx2UAdT1pgitonpoWppb1kOEDdj1JgBw==\"/>\n",
      "          <fieldset>\n",
      "           <div class=\"fieldPara clearFix\">\n",
      "            <label for=\"user_first_name\">\n",
      "             Name\n",
      "            </label>\n",
      "            <input autofocus=\"autofocus\" id=\"user_first_name\" maxlength=\"50\" name=\"user[first_name]\" placeholder=\"Name\" size=\"50\" spellcheck=\"false\" type=\"text\"/>\n",
      "           </div>\n",
      "           <div class=\"fieldPara clearFix\">\n",
      "            <label for=\"user_email\">\n",
      "             Email address\n",
      "            </label>\n",
      "            <input id=\"user_email\" name=\"user[email]\" placeholder=\"you@yours.com\" spellcheck=\"false\" type=\"email\"/>\n",
      "           </div>\n",
      "           <div class=\"fieldPara clearFix\">\n",
      "            <label for=\"user_password\">\n",
      "             Password\n",
      "            </label>\n",
      "            <input id=\"user_password\" maxlength=\"128\" name=\"user[password]\" size=\"128\" type=\"password\"/>\n",
      "           </div>\n",
      "           <div class=\"captcha\">\n",
      "            <br/>\n",
      "           </div>\n",
      "           <div class=\"submitPara\">\n",
      "            <input class=\"gr-button gr-button--large\" name=\"next\" type=\"submit\" value=\"Sign up\"/>\n",
      "            <span class=\"signInOption\">\n",
      "             Already a member?\n",
      "             <a href=\"/user/sign_in\">\n",
      "              Sign in\n",
      "             </a>\n",
      "            </span>\n",
      "           </div>\n",
      "           <input name=\"n\" type=\"hidden\" value=\"387266\"/>\n",
      "          </fieldset>\n",
      "         </form>\n",
      "         <p id=\"privacyNotice\">\n",
      "          By clicking “Sign up” I agree to the Goodreads\n",
      "          <a href=\"/about/terms\" rel=\"noopener noreferrer\" target=\"_blank\">\n",
      "           Terms of Service\n",
      "          </a>\n",
      "          and confirm that I am at least 13 years of age.\n",
      "          <a href=\"/about/privacy\" rel=\"noopener noreferrer\" target=\"_blank\">\n",
      "           Read our Privacy Policy.\n",
      "          </a>\n",
      "         </p>\n",
      "        </div>\n",
      "       </div>\n",
      "      </div>\n",
      "     </div>\n",
      "    </div>\n",
      "   </div>\n",
      "   <div class=\"push\">\n",
      "   </div>\n",
      "  </div>\n",
      "  <div class=\"tfooter\">\n",
      "   <div class=\"footer\">\n",
      "    ©\n",
      "2021\n",
      "Goodreads Inc\n",
      "   </div>\n",
      "  </div>\n",
      " </body>\n",
      " <div id=\"overlay\" onclick=\"Lightbox.hideBox()\" style=\"display:none\">\n",
      " </div>\n",
      " <div id=\"box\" style=\"display:none\">\n",
      "  <div class=\"xBackground js-closeModalIcon\" id=\"close\" onclick=\"Lightbox.hideBox()\" title=\"Close this window\">\n",
      "  </div>\n",
      "  <div id=\"boxContents\">\n",
      "  </div>\n",
      "  <div id=\"boxContentsLeftovers\" style=\"display:none\">\n",
      "  </div>\n",
      "  <div class=\"clear\">\n",
      "  </div>\n",
      " </div>\n",
      " <div id=\"fbSigninNotification\" style=\"display:none;\">\n",
      "  <p>\n",
      "   Welcome back. Just a moment while we sign you in to your Goodreads account.\n",
      "  </p>\n",
      "  <img alt=\"Login animation\" src=\"https://s.gr-assets.com/assets/facebook/login_animation-085464711e6c1ed5ba287a2f40ba3343.gif\"/>\n",
      " </div>\n",
      " <script>\n",
      "  //<![CDATA[\n",
      "    qcdata = {} || qcdata;\n",
      "      (function(){\n",
      "        var elem = document.createElement('script');\n",
      "        elem.src = (document.location.protocol == \"https:\" ? \"https://secure\" : \"http://pixel\") + \".quantserve.com/aquant.js?a=p-0dUe_kJAjvkoY\";\n",
      "        elem.async = true;\n",
      "        elem.type = \"text/javascript\";\n",
      "        var scpt = document.getElementsByTagName('script')[0];\n",
      "        scpt.parentNode.insertBefore(elem,scpt);\n",
      "      }());\n",
      "    var qcdata = {qacct: 'p-0dUe_kJAjvkoY', uid: ''};\n",
      "  //]]>\n",
      " </script>\n",
      " <noscript>\n",
      "  <img alt=\"Quantcast\" border=\"0\" height=\"1\" src=\"//pixel.quantserve.com/pixel/p-0dUe_kJAjvkoY.gif\" style=\"display: none;\" width=\"1\"/>\n",
      " </noscript>\n",
      " <script>\n",
      "  //<![CDATA[\n",
      "    var _comscore = _comscore || [];\n",
      "    _comscore.push({ c1: \"2\", c2: \"6035830\", c3: \"\", c4: \"\", c5: \"\", c6: \"\", c15: \"\"});\n",
      "    (function() {\n",
      "    var s = document.createElement(\"script\"), el = document.getElementsByTagName(\"script\")[0]; s.async = true;\n",
      "    s.src = (document.location.protocol == \"https:\" ? \"https://sb\" : \"http://b\") + \".scorecardresearch.com/beacon.js\";\n",
      "    el.parentNode.insertBefore(s, el);\n",
      "    })();\n",
      "  //]]>\n",
      " </script>\n",
      " <noscript>\n",
      "  <img alt=\"\" height=\"0\" src=\"https://sb.scorecardresearch.com/p?c1=2&amp;amp;c2=6035830&amp;amp;c3=&amp;amp;c4=&amp;amp;c5=&amp;amp;c6=&amp;amp;c15=&amp;amp;cv=2.0&amp;amp;cj=1\" style=\"display: none\" width=\"0\"/>\n",
      " </noscript>\n",
      " <script>\n",
      "  //<![CDATA[\n",
      "    var initializeGrfb = function() {\n",
      "      $grfb.initialize({\n",
      "        appId: \"2415071772\"\n",
      "      });\n",
      "    };\n",
      "    if (typeof $grfb !== \"undefined\") {\n",
      "      initializeGrfb();\n",
      "    } else {\n",
      "      window.addEventListener(\"DOMContentLoaded\", function() {\n",
      "        if (typeof $grfb !== \"undefined\") {\n",
      "          initializeGrfb();\n",
      "        }\n",
      "      });\n",
      "    }\n",
      "  //]]>\n",
      " </script>\n",
      " <script>\n",
      "  //<![CDATA[\n",
      "    function loadScript(url, callback) {\n",
      "      var script = document.createElement(\"script\");\n",
      "      script.type = \"text/javascript\";\n",
      "    \n",
      "      if (script.readyState) {  //Internet Explorer\n",
      "          script.onreadystatechange = function() {\n",
      "            if (script.readyState == \"loaded\" ||\n",
      "                    script.readyState == \"complete\") {\n",
      "              script.onreadystatechange = null;\n",
      "              callback();\n",
      "            }\n",
      "          };\n",
      "      } else {  //Other browsers\n",
      "        script.onload = function() {\n",
      "          callback();\n",
      "        };\n",
      "      }\n",
      "    \n",
      "      script.src = url;\n",
      "      document.getElementsByTagName(\"head\")[0].appendChild(script);\n",
      "    }\n",
      "    \n",
      "    function initAppleId() {\n",
      "      AppleID.auth.init({\n",
      "        clientId : 'com.goodreads.app', \n",
      "        scope : 'name email',\n",
      "        redirectURI: 'https://www.goodreads.com/apple_users/sign_in_with_apple_web',\n",
      "        state: 'apple_oauth_state_ffa94d1a-08e9-4ea2-8481-f6b4371c427c'\n",
      "      });\n",
      "    }\n",
      "    \n",
      "    var initializeSiwa = function() {\n",
      "      var APPLE_SIGN_IN_JS_URL =  \"https://appleid.cdn-apple.com/appleauth/static/jsapi/appleid/1/en_US/appleid.auth.js\"\n",
      "      loadScript(APPLE_SIGN_IN_JS_URL, initAppleId);\n",
      "    };\n",
      "    if (typeof AppleID !== \"undefined\") {\n",
      "      initAppleId();\n",
      "    } else {\n",
      "      initializeSiwa();\n",
      "    }\n",
      "  //]]>\n",
      " </script>\n",
      "</html>\n",
      "<!-- This is a random-length HTML comment: orstixkoqmaxlknojggpnvtibhlglwgxlmxksbihovgqpktalzqsqzpztsmztzovsjhxiflmormoggfervwzmvlansnxjgmtjbvjfpoiungvvkskddgikhxugknvwectwyuasggfkiniayqbebqfztmplwmjlfavculjdwvhhskklyrphqdpozpfzqlsgggdpjfrwromkfffmbmygkwtnyyalovqxvqcmrxpdicfmbgtrffbowyvwgspluzuebxirtkbfwotfhaaqsykdrrlrpfxzjdwaynkmywpblkmhyeifxsmtetnxcyomxucbymzeksbbgtienuhrkc -->\n",
      "\n"
     ]
    }
   ],
   "source": [
    "info_content = info.content\n",
    "soup = BeautifulSoup(info_content, 'lxml')\n",
    "print(soup.prettify())"
   ]
  },
  {
   "cell_type": "code",
   "execution_count": null,
   "metadata": {},
   "outputs": [],
   "source": []
  },
  {
   "cell_type": "code",
   "execution_count": null,
   "metadata": {},
   "outputs": [],
   "source": []
  },
  {
   "cell_type": "code",
   "execution_count": null,
   "metadata": {},
   "outputs": [],
   "source": []
  },
  {
   "cell_type": "code",
   "execution_count": null,
   "metadata": {},
   "outputs": [],
   "source": []
  },
  {
   "cell_type": "markdown",
   "metadata": {},
   "source": [
    "#### a) Estante de libros leídos"
   ]
  },
  {
   "cell_type": "code",
   "execution_count": null,
   "metadata": {
    "scrolled": false
   },
   "outputs": [],
   "source": [
    "leido_francisco_galan = extract_info(id_francisco_galan, 'read', 276)"
   ]
  },
  {
   "cell_type": "markdown",
   "metadata": {},
   "source": [
    "#### b) Estante de libros por leer"
   ]
  },
  {
   "cell_type": "code",
   "execution_count": null,
   "metadata": {
    "scrolled": true
   },
   "outputs": [],
   "source": [
    "por_leer_francisco_galan = extract_info(id_francisco_galan, 'to-read', 104)"
   ]
  },
  {
   "cell_type": "markdown",
   "metadata": {},
   "source": [
    "## II. Obtener bases de datos en pandas"
   ]
  },
  {
   "cell_type": "markdown",
   "metadata": {},
   "source": [
    "Ahora ya tenemos una función que almacena toda la información del estante de un usuario en un diccionario. Procedamos ahora a pasar la información a una base de datos en pandas."
   ]
  },
  {
   "cell_type": "markdown",
   "metadata": {},
   "source": [
    "### 2.1 Generar DataFrames"
   ]
  },
  {
   "cell_type": "markdown",
   "metadata": {},
   "source": [
    "Antes de pasar la información a formato DataFrame en pandas, chequemos que todas las variables tengan la misma extensión:"
   ]
  },
  {
   "cell_type": "code",
   "execution_count": null,
   "metadata": {},
   "outputs": [],
   "source": [
    "def check_variables_length(dictionary):\n",
    "    for x, y in dictionary.items():\n",
    "        print(f'{x}: ', len(y))"
   ]
  },
  {
   "cell_type": "code",
   "execution_count": null,
   "metadata": {},
   "outputs": [],
   "source": [
    "check_variables_length(leido_francisco_galan)"
   ]
  },
  {
   "cell_type": "markdown",
   "metadata": {},
   "source": [
    "Ahora sí, pasemos los datos a un DataFrame"
   ]
  },
  {
   "cell_type": "code",
   "execution_count": null,
   "metadata": {},
   "outputs": [],
   "source": [
    "pd_leido = pd.DataFrame(leido_francisco_galan)\n",
    "pd_leido"
   ]
  },
  {
   "cell_type": "code",
   "execution_count": null,
   "metadata": {},
   "outputs": [],
   "source": [
    "check_variables_length(por_leer_francisco_galan)"
   ]
  },
  {
   "cell_type": "code",
   "execution_count": null,
   "metadata": {},
   "outputs": [],
   "source": [
    "pd_por_leer = pd.DataFrame(por_leer_francisco_galan)\n",
    "pd_por_leer"
   ]
  },
  {
   "cell_type": "markdown",
   "metadata": {},
   "source": [
    "### 2.2 Unir DataFrames"
   ]
  },
  {
   "cell_type": "markdown",
   "metadata": {},
   "source": [
    "Antes de analizar la información, comencemos por unir los dos DataFrames para tenerlos en un mismo lugar:"
   ]
  },
  {
   "cell_type": "code",
   "execution_count": null,
   "metadata": {},
   "outputs": [],
   "source": [
    "pd_total = pd.concat([pd_leido, pd_por_leer], axis=0)\n",
    "pd_total"
   ]
  },
  {
   "cell_type": "code",
   "execution_count": null,
   "metadata": {},
   "outputs": [],
   "source": [
    "# Resetear índices\n",
    "pd_total = pd_total.reset_index(drop=True)"
   ]
  },
  {
   "cell_type": "markdown",
   "metadata": {},
   "source": [
    "### 2.3 Explorar información"
   ]
  },
  {
   "cell_type": "code",
   "execution_count": null,
   "metadata": {},
   "outputs": [],
   "source": [
    "pd_total.info()"
   ]
  },
  {
   "cell_type": "markdown",
   "metadata": {},
   "source": [
    "Podemos observar que nuestras 11 columnas están como tipo `object`, lo cual no es adecuado. "
   ]
  },
  {
   "cell_type": "code",
   "execution_count": null,
   "metadata": {},
   "outputs": [],
   "source": [
    "pd_total.isnull().sum()"
   ]
  },
  {
   "cell_type": "markdown",
   "metadata": {},
   "source": [
    "Vemos también que no hay valores nulos. No obstante, esto es engañoso porque sí parece haber celdas vacías, como se muestra a continuación en las columnas`isbn` o `num_pages`:"
   ]
  },
  {
   "cell_type": "code",
   "execution_count": null,
   "metadata": {},
   "outputs": [],
   "source": [
    "pd_total.head(5)"
   ]
  },
  {
   "cell_type": "code",
   "execution_count": null,
   "metadata": {
    "scrolled": true
   },
   "outputs": [],
   "source": [
    "pd_total.tail(5)"
   ]
  },
  {
   "cell_type": "code",
   "execution_count": null,
   "metadata": {},
   "outputs": [],
   "source": [
    "print(pd_total['isbn'][1])\n",
    "print(type(pd_total['isbn'][1]))"
   ]
  },
  {
   "cell_type": "markdown",
   "metadata": {},
   "source": [
    "Parece que estas celdas son simplemente strings vacíos. Transformémoslas a valores `NaN` para analizar mejor la información:"
   ]
  },
  {
   "cell_type": "code",
   "execution_count": null,
   "metadata": {},
   "outputs": [],
   "source": [
    "pd_total = pd_total.replace(r'^\\s*$', np.NaN, regex=True)\n",
    "pd_total.isnull().sum()"
   ]
  },
  {
   "cell_type": "markdown",
   "metadata": {},
   "source": [
    "Vemos que hay cuatro columnas en las que faltan valores, aunque será difícil llenarlos, puesto que no nos podemos basar en la demás información de la base de datos."
   ]
  },
  {
   "cell_type": "code",
   "execution_count": null,
   "metadata": {},
   "outputs": [],
   "source": [
    "pd_total.describe()"
   ]
  },
  {
   "cell_type": "markdown",
   "metadata": {},
   "source": [
    "Verifiquemos que no hay valores outliers en las columnas:"
   ]
  },
  {
   "cell_type": "markdown",
   "metadata": {},
   "source": [
    "### 2.4 Cambiar tipos de variables"
   ]
  },
  {
   "cell_type": "markdown",
   "metadata": {},
   "source": [
    "Cambiemos aquellas columnas que son puramente numéricas:"
   ]
  },
  {
   "cell_type": "code",
   "execution_count": null,
   "metadata": {},
   "outputs": [],
   "source": [
    "pd_total['num_pages'] = pd_total['num_pages'].astype('float')\n",
    "pd_total['my_rating'] = pd_total['my_rating'].astype('float')\n",
    "pd_total['average_rating'] = pd_total['average_rating'].astype('float')\n",
    "pd_total['ratings_count'] = pd_total['average_rating'].astype('float')"
   ]
  },
  {
   "cell_type": "markdown",
   "metadata": {},
   "source": [
    "Ahora cambiemos la columna con la fecha de publicación. Primero, veamos en qué formato están los valores:"
   ]
  },
  {
   "cell_type": "code",
   "execution_count": null,
   "metadata": {},
   "outputs": [],
   "source": [
    "pd_total['publication_year'].value_counts()"
   ]
  },
  {
   "cell_type": "code",
   "execution_count": null,
   "metadata": {},
   "outputs": [],
   "source": [
    "pd_total['publication_year'] = pd.to_datetime(pd_total['publication_year'], format='%Y')"
   ]
  },
  {
   "cell_type": "code",
   "execution_count": null,
   "metadata": {},
   "outputs": [],
   "source": [
    "pd_total.info()"
   ]
  },
  {
   "cell_type": "markdown",
   "metadata": {},
   "source": [
    "### 2.5 Limpiar columna de `my_rating`"
   ]
  },
  {
   "cell_type": "markdown",
   "metadata": {},
   "source": [
    "En esta columna, a los libros que no les di calificación les asigna un 0. Conviene, mejor, pasar estos valores a NaN para que no alteren otros cálculos:"
   ]
  },
  {
   "cell_type": "code",
   "execution_count": null,
   "metadata": {},
   "outputs": [],
   "source": [
    "pd_total['my_rating'] = pd_total['my_rating'].replace(0, np.NaN)"
   ]
  },
  {
   "cell_type": "code",
   "execution_count": null,
   "metadata": {},
   "outputs": [],
   "source": [
    "pd_total['my_rating'].isnull().sum()"
   ]
  },
  {
   "cell_type": "markdown",
   "metadata": {},
   "source": [
    "### 2.6 Exportar como Excel"
   ]
  },
  {
   "cell_type": "code",
   "execution_count": null,
   "metadata": {},
   "outputs": [],
   "source": [
    "pd_total.to_excel(r'Output/Francisco_galan.xlsx', index=False)"
   ]
  },
  {
   "cell_type": "code",
   "execution_count": null,
   "metadata": {},
   "outputs": [],
   "source": [
    "pd_total.to_csv(f'Output/francisco_galan.csv', index=False, )"
   ]
  },
  {
   "cell_type": "markdown",
   "metadata": {},
   "source": [
    "## III. Extra"
   ]
  },
  {
   "cell_type": "markdown",
   "metadata": {},
   "source": [
    "A continuación, algunas conclusiones sobre mis hábitos de lectura.\n",
    "\n"
   ]
  },
  {
   "cell_type": "markdown",
   "metadata": {},
   "source": [
    "Extensión promedio de los libros que he leído."
   ]
  },
  {
   "cell_type": "code",
   "execution_count": null,
   "metadata": {},
   "outputs": [],
   "source": [
    "int(pd_total['num_pages'].mean())"
   ]
  },
  {
   "cell_type": "markdown",
   "metadata": {},
   "source": [
    "Los cinco autores que más he leído:"
   ]
  },
  {
   "cell_type": "code",
   "execution_count": null,
   "metadata": {},
   "outputs": [],
   "source": [
    "pd_total['author'].value_counts().head(5)"
   ]
  },
  {
   "cell_type": "markdown",
   "metadata": {},
   "source": [
    "Calificación que doy en promedio:"
   ]
  },
  {
   "cell_type": "code",
   "execution_count": null,
   "metadata": {
    "scrolled": true
   },
   "outputs": [],
   "source": [
    "pd_total['my_rating'].mean()"
   ]
  }
 ],
 "metadata": {
  "kernelspec": {
   "display_name": "Python 3",
   "language": "python",
   "name": "python3"
  },
  "language_info": {
   "codemirror_mode": {
    "name": "ipython",
    "version": 3
   },
   "file_extension": ".py",
   "mimetype": "text/x-python",
   "name": "python",
   "nbconvert_exporter": "python",
   "pygments_lexer": "ipython3",
   "version": "3.7.6"
  }
 },
 "nbformat": 4,
 "nbformat_minor": 4
}
